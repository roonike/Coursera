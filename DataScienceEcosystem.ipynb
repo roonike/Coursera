{
 "cells": [
  {
   "cell_type": "markdown",
   "id": "be417261-ce58-4016-bc5b-714f42c89ced",
   "metadata": {},
   "source": [
    "# Data Science Tools and Ecosystem"
   ]
  },
  {
   "cell_type": "markdown",
   "id": "bd5e273b-2a01-4c78-afb2-82533090a76a",
   "metadata": {},
   "source": [
    "In this notebook, Data Science Tools and Ecosystem are summarized."
   ]
  },
  {
   "cell_type": "markdown",
   "id": "23880850-c4fe-4ae4-ab42-f4a511589f7e",
   "metadata": {},
   "source": [
    "Objectives:\n",
    "* List of popular languages for data science\n",
    "* Arithmetic exprression examples\n",
    "* Tools for data science\n"
   ]
  },
  {
   "cell_type": "markdown",
   "id": "1e0e6bcf-1f2b-4dda-9bf1-731f97e4da34",
   "metadata": {},
   "source": [
    "Some of the popular languages that Data Scientists use are:\n",
    "1. Python\n",
    "2. R\n",
    "3. C++"
   ]
  },
  {
   "cell_type": "markdown",
   "id": "760cdb05-d8b8-42e3-a760-87b4d5ad4dae",
   "metadata": {},
   "source": [
    "Some of the commonly used libraries used by Data Scientists include:\n",
    "1. ggplot2\n",
    "2. PyTorch\n",
    "3. Numpy"
   ]
  },
  {
   "cell_type": "markdown",
   "id": "e2441356-ecb9-407e-9681-f862f901cc8c",
   "metadata": {},
   "source": [
    "|Data Science Tools|\n",
    "|:-----:|\n",
    "|Github|\n",
    "|Anaconda|\n",
    "|Visual Studio Code|"
   ]
  },
  {
   "cell_type": "markdown",
   "id": "0fc4c303-b615-4971-bad8-00631f9decf6",
   "metadata": {},
   "source": [
    "### Below are a few examples of evaluating arithmetic expressions in Python"
   ]
  },
  {
   "cell_type": "code",
   "execution_count": 1,
   "id": "77b3c243-1803-485b-a6e3-c6fa2b3926e4",
   "metadata": {},
   "outputs": [
    {
     "data": {
      "text/plain": [
       "17"
      ]
     },
     "execution_count": 1,
     "metadata": {},
     "output_type": "execute_result"
    }
   ],
   "source": [
    "# This a simple arithmetic expression to mutiply then add integers\n",
    "(3*4)+5"
   ]
  },
  {
   "cell_type": "code",
   "execution_count": 2,
   "id": "39d30fd7-ea1e-4a35-bd52-2a9e844f0f64",
   "metadata": {},
   "outputs": [
    {
     "data": {
      "text/plain": [
       "3.3333333333333335"
      ]
     },
     "execution_count": 2,
     "metadata": {},
     "output_type": "execute_result"
    }
   ],
   "source": [
    "#tthis will convert 200 minutes to hours by dividing by 60\n",
    "200/60"
   ]
  },
  {
   "cell_type": "markdown",
   "id": "72fc9ac2-627e-4c26-b684-56153015657a",
   "metadata": {},
   "source": [
    "## Author\n",
    "Fitzberth"
   ]
  },
  {
   "cell_type": "code",
   "execution_count": null,
   "id": "c45af03e-26d8-40f9-a3d1-7ff760a22d24",
   "metadata": {},
   "outputs": [],
   "source": []
  }
 ],
 "metadata": {
  "kernelspec": {
   "display_name": "Python 3 (ipykernel)",
   "language": "python",
   "name": "python3"
  },
  "language_info": {
   "codemirror_mode": {
    "name": "ipython",
    "version": 3
   },
   "file_extension": ".py",
   "mimetype": "text/x-python",
   "name": "python",
   "nbconvert_exporter": "python",
   "pygments_lexer": "ipython3",
   "version": "3.12.2"
  }
 },
 "nbformat": 4,
 "nbformat_minor": 5
}
